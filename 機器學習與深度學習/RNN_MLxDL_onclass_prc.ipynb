{
 "cells": [
  {
   "cell_type": "code",
   "execution_count": 5,
   "metadata": {},
   "outputs": [
    {
     "name": "stdout",
     "output_type": "stream",
     "text": [
      "download:  ('./Dataset/IMDB/aclImdb_v1.tar.gz', <http.client.HTTPMessage object at 0x000002907B99AD88>)\n"
     ]
    }
   ],
   "source": [
    "import urllib.request\n",
    "import os\n",
    "import tarfile\n",
    "\n",
    "os.chdir('C:/Users/Weber/Documents/GitHub/TMU-GIDS/機器學習與深度學習')\n",
    "\n",
    "url = 'http://ai.stanford.edu/~amaas/data/sentiment/aclImdb_v1.tar.gz'\n",
    "filepath = './Dataset/IMDB/aclImdb_v1.tar.gz'\n",
    "\n",
    "if not os.path.isfile(filepath):\n",
    "    result =urllib.request.urlretrieve(url, filepath)\n",
    "    print('download: ', result)"
   ]
  },
  {
   "cell_type": "code",
   "execution_count": 15,
   "metadata": {},
   "outputs": [],
   "source": [
    "import re\n",
    "import os\n",
    "\n",
    "def rm_tags(text):\n",
    "    re_tag = re.compile(r'<[^>]+>')\n",
    "    return re_tag.sub('', text)\n",
    "\n",
    "def read_files(filetype):\n",
    "    path = \"./Dataset/IMDB/IMDB/\"\n",
    "    file_list = []\n",
    "    \n",
    "    positive_path = path+ filetype   + '/pos/'\n",
    "    for f in os.listdir(positive_path):\n",
    "        file_list.append(positive_path + f)\n",
    "    \n",
    "    negative_path = path + filetype +  \"/neg/\"\n",
    "    for f in os.listdir(negative_path):\n",
    "        file_list.append(negative_path + f)\n",
    "    \n",
    "    print('read', filetype, 'files: ', len(file_list))\n",
    "    \n",
    "    all_labels = ([1] * 12500 + [0] * 12500)\n",
    "    all_texts = []\n",
    "    \n",
    "    for fi in file_list:\n",
    "        with open(fi, encoding = 'utf8') as file_input:\n",
    "            all_texts +=  [rm_tags(\" \".join(file_input.readlines()))]\n",
    "            \n",
    "    return all_labels, all_texts"
   ]
  },
  {
   "cell_type": "code",
   "execution_count": null,
   "metadata": {},
   "outputs": [
    {
     "name": "stdout",
     "output_type": "stream",
     "text": [
      "read train files:  25000\n",
      "read test files:  25000\n"
     ]
    }
   ],
   "source": [
    "y_train, train_text = read_files('train')\n",
    "y_test, test_text = read_files('test')\n",
    "print(train_text[0])\n",
    "print(y_train[0])"
   ]
  },
  {
   "cell_type": "code",
   "execution_count": null,
   "metadata": {},
   "outputs": [],
   "source": [
    "from keras.preprocessing import sequence\n",
    "from keras.preprocessing.text import Tokenizer\n",
    "token = Tokenizer(num_words = 2000)\n",
    "token.fit_on_texts(train_text)\n",
    "print(token.document_count)"
   ]
  },
  {
   "cell_type": "code",
   "execution_count": null,
   "metadata": {},
   "outputs": [],
   "source": [
    "x_train_seq = token.text_to_sequences(train_text)\n",
    "x_test_seq = token.text_to_sequences(test_text)\n",
    "x_train = sequence.pad_sequences(x_train_seq, maxlen = 100)\n",
    "x_test = sequence.pad_sequences(x_test_seq, maxlen = 100)\n",
    "\n",
    "print('Before pad_sequences length=', len(x_train_seq[0]))\n",
    "print(x_train_seq[0])\n",
    "\n",
    "print('After pad_sequences length=', len(x_train[0]))\n",
    "print(x_train[0])"
   ]
  },
  {
   "cell_type": "code",
   "execution_count": null,
   "metadata": {},
   "outputs": [],
   "source": []
  }
 ],
 "metadata": {
  "kernelspec": {
   "display_name": "Python 3",
   "language": "python",
   "name": "python3"
  },
  "language_info": {
   "codemirror_mode": {
    "name": "ipython",
    "version": 3
   },
   "file_extension": ".py",
   "mimetype": "text/x-python",
   "name": "python",
   "nbconvert_exporter": "python",
   "pygments_lexer": "ipython3",
   "version": "3.7.4"
  }
 },
 "nbformat": 4,
 "nbformat_minor": 2
}
