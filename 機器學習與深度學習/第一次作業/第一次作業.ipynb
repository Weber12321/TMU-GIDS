{
 "cells": [
  {
   "cell_type": "code",
   "execution_count": 5,
   "metadata": {},
   "outputs": [
    {
     "name": "stderr",
     "output_type": "stream",
     "text": [
      "Building prefix dict from the default dictionary ...\n",
      "Dumping model to file cache C:\\Users\\Weber\\AppData\\Local\\Temp\\jieba.cache\n",
      "Loading model cost 1.530 seconds.\n",
      "Prefix dict has been built succesfully.\n"
     ]
    }
   ],
   "source": [
    "import jieba\n",
    "import re\n",
    "stw=[]\n",
    "seg=[]\n",
    "seg_result=[]\n",
    "\n",
    "#jieba.load_userdict('')\n",
    "# load stop word file\n",
    "with open('C:/Users/Weber/Documents/GitHub/TMU-GIDS/機器學習與深度學習/第一次作業/chineses_stop_word.csv', 'r', encoding='UTF-8') as file:\n",
    "    for data in file.readlines():\n",
    "        data = data.strip()\n",
    "        stw.append(data)\n",
    "# load hw_file       \n",
    "with open('C:/Users/Weber/Documents/GitHub/TMU-GIDS/機器學習與深度學習/第一次作業/ChineseDataset_Assignment1.txt', 'r', encoding='UTF-8') as file:\n",
    "    text = file.read()\n",
    "    seg = jieba.cut(text, cut_all=False)\n",
    "\n",
    "seg_result = list(filter(lambda a: a not in stw and a != '\\n', seg))\n",
    "\n",
    "#file_ch = pd.read_table('C:/Users/Weber/Documents/GitHub/TMU-GIDS/機器學習與深度學習/第一次作業/ChineseDataset_Assignment1.txt', header=None)\n",
    "#file_stpwd = pd.read_table('C:/Users/Weber/Documents/GitHub/TMU-GIDS/機器學習與深度學習/第一次作業/chineses_stop_word.csv', header=None)"
   ]
  },
  {
   "cell_type": "code",
   "execution_count": null,
   "metadata": {},
   "outputs": [],
   "source": [
    "counts = {}  \n",
    "for word in seg:  \n",
    "    counts[word] = counts.get(word,0) + 1\n",
    "items = list(counts.items())  \n",
    "items.sort(key=lambda x:x[1], reverse=True)   \n",
    "for i in range(30):  \n",
    "    word, count = items[i]  \n",
    "    print (\"{0:<10}{1:>5}\".format(word, count))"
   ]
  },
  {
   "cell_type": "code",
   "execution_count": null,
   "metadata": {},
   "outputs": [],
   "source": [
    "\n"
   ]
  }
 ],
 "metadata": {
  "kernelspec": {
   "display_name": "Python 3",
   "language": "python",
   "name": "python3"
  },
  "language_info": {
   "codemirror_mode": {
    "name": "ipython",
    "version": 3
   },
   "file_extension": ".py",
   "mimetype": "text/x-python",
   "name": "python",
   "nbconvert_exporter": "python",
   "pygments_lexer": "ipython3",
   "version": "3.7.3"
  }
 },
 "nbformat": 4,
 "nbformat_minor": 2
}
