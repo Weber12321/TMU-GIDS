{
 "cells": [
  {
   "cell_type": "markdown",
   "metadata": {},
   "source": [
    "### Kaggle ML course team battle 01 for baseline classification"
   ]
  },
  {
   "cell_type": "markdown",
   "metadata": {},
   "source": [
    "#### 1. load data"
   ]
  },
  {
   "cell_type": "code",
   "execution_count": null,
   "metadata": {},
   "outputs": [],
   "source": [
    "import sklearn\n",
    "from sklearn.datasets import load_files\n",
    "\n",
    "# training\n",
    "datapath = r'C:/Users/nicoleshih/Downloads/tmu-ml-course-team-battle-1/training_dataset_v1/training_dataset'\n",
    "mrdataset = load_files(datapath, shuffle=True)\n",
    "\n",
    "# testing\n",
    "import pandas as pd\n",
    "test = pd.read_csv('C:/Users/nicoleshih/Downloads/tmu-ml-course-team-battle-1/test_dataset.csv', header=None)\n",
    "\n",
    "# submission\n",
    "sub = pd.read_csv('C:/Users/nicoleshih/Downloads/tmu-ml-course-team-battle-1/submission.csv')\n",
    "\n",
    "from sklearn.feature_extraction.text import TfidfVectorizer\n",
    "tfidf_vectorizer = TfidfVectorizer()"
   ]
  },
  {
   "cell_type": "markdown",
   "metadata": {},
   "source": [
    "#### 2. baseline_model function"
   ]
  },
  {
   "cell_type": "code",
   "execution_count": null,
   "metadata": {},
   "outputs": [],
   "source": [
    "from sklearn.model_selection import cross_val_score\n",
    "\n",
    "def baseline_model(model, vector, mrdataset, test , sub):\n",
    "    performance = cross_val_score(model, tfidf_vectorizer.fit_transform(mrdataset.data), mrdataset.target, \n",
    "                                 cv=10, scoring='accuracy')\n",
    "    print(\"avg-accuracy: {0}\".format(performance.mean()))\n",
    "\n",
    "    # test.head()\n",
    "    x_train = tfidf_vectorizer.fit_transform(mrdataset.data)\n",
    "    y_train = mrdataset.target\n",
    "    x_test = tfidf_vectorizer.transform(test.iloc[:,1].values.astype('U'))\n",
    "\n",
    "    model.fit(x_train,y_train)\n",
    "    y_test = model.predict(x_test)\n",
    "\n",
    "    sub['Label'] = y_test\n",
    "    sub['Label'].replace([0,1],['neg','pos'], inplace=True)\n",
    "    \n",
    "    return sub\n",
    "    "
   ]
  },
  {
   "cell_type": "markdown",
   "metadata": {},
   "source": [
    "#### 3. Multinomial NB"
   ]
  },
  {
   "cell_type": "code",
   "execution_count": 17,
   "metadata": {},
   "outputs": [
    {
     "name": "stdout",
     "output_type": "stream",
     "text": [
      "avg-accuracy: 0.8647600000000001\n"
     ]
    }
   ],
   "source": [
    "# NB\n",
    "from sklearn.naive_bayes import MultinomialNB\n",
    "model = MultinomialNB()\n",
    "NB = baseline_model(model, tfidf_vectorizer, mrdataset, test , sub)\n",
    "\n",
    "path = 'C:/Users/nicoleshih/Downloads/tmu-ml-course-team-battle-1/submission_NB_ans.csv'\n",
    "NB.to_csv(path, index=0)"
   ]
  },
  {
   "cell_type": "markdown",
   "metadata": {},
   "source": [
    "#### 4. SVM"
   ]
  },
  {
   "cell_type": "code",
   "execution_count": null,
   "metadata": {},
   "outputs": [],
   "source": [
    "# SVM\n",
    "from sklearn import svm\n",
    "model = svm.SVC(kernel='linear')\n",
    "svm = baseline_model(model, tfidf_vectorizer, mrdataset, test , sub)\n",
    "\n",
    "path = 'C:/Users/nicoleshih/Downloads/tmu-ml-course-team-battle-1/submission_svm_ans.csv'\n",
    "svm.to_csv(path, index=0)"
   ]
  },
  {
   "cell_type": "markdown",
   "metadata": {},
   "source": [
    "#### 4-1. SVM 調參"
   ]
  },
  {
   "cell_type": "code",
   "execution_count": null,
   "metadata": {},
   "outputs": [],
   "source": [
    "# 參數調起來!!! \n",
    "from sklearn.model_selection import GridSearchCV\n",
    "from sklearn import svm\n",
    "\n",
    "x_train = tfidf_vectorizer.fit_transform(mrdataset.data)\n",
    "y_train = mrdataset.target\n",
    "x_test = tfidf_vectorizer.transform(test.iloc[:,1].values.astype('U'))\n",
    "\n",
    "parameters = {'kernel':('linear', 'rbf'),'C':[1,2,4],'gamma':[0.125, 0.25, 0.5, 1, 2, 4]}\n",
    "model = svm.SVC()\n",
    "gs_clf = GridSearchCV(model, parameters, n_jobs=-1)\n",
    "gs_clf.fit(tfidf_vectorizer.fit_transform(tfidf_vectorizer.fit_transform(mrdataset.data)[:400]),\n",
    "           mrdataset.target[:400])\n",
    "performance = cross_val_score(gs_clf.best_estimator_, tfidf_vectorizer.fit_transform(mrdataset.data), mrdataset.target, \n",
    "                             cv=10, scoring='accuracy')\n",
    "print(\"avg-accuracy: {0}\".format(performance.mean()))\n",
    "print('The parameters of the best model are :')\n",
    "print(gs_clf.best_params_)\n",
    "\n",
    "\n",
    "y_test = gs_clf.predict(x_test)\n",
    "\n",
    "sub['Label'] = y_test\n",
    "sub['Label'].replace([0,1],['neg','pos'], inplace=True)\n",
    "\n",
    "path = 'C:/Users/doudi/Downloads/tmu-ml-course-team-battle-1/submission_GS_ans.csv'\n",
    "sub.to_csv(path, index=0)"
   ]
  },
  {
   "cell_type": "code",
   "execution_count": null,
   "metadata": {},
   "outputs": [],
   "source": []
  },
  {
   "cell_type": "markdown",
   "metadata": {},
   "source": [
    "#### 5. LR"
   ]
  },
  {
   "cell_type": "code",
   "execution_count": null,
   "metadata": {},
   "outputs": [],
   "source": [
    "# LR\n",
    "from sklearn.linear_model import LogisticRegression\n",
    "model = LogisticRegression()\n",
    "LR = baseline_model(model, tfidf_vectorizer, mrdataset, test , sub)\n",
    "\n",
    "path = 'C:/Users/nicoleshih/Downloads/tmu-ml-course-team-battle-1/submission_LR_ans.csv'\n",
    "LR.to_csv(path, index=0)"
   ]
  },
  {
   "cell_type": "markdown",
   "metadata": {},
   "source": [
    "#### 6. RF"
   ]
  },
  {
   "cell_type": "code",
   "execution_count": null,
   "metadata": {},
   "outputs": [],
   "source": [
    "# RF\n",
    "from sklearn.ensemble import RandomForestClassifier\n",
    "model = RandomForestClassifier()\n",
    "RF = baseline_model(model, tfidf_vectorizer, mrdataset, test , sub)\n",
    "\n",
    "path = 'C:/Users/nicoleshih/Downloads/tmu-ml-course-team-battle-1/submission_RF_ans.csv'\n",
    "RF.to_csv(path, index=0)"
   ]
  },
  {
   "cell_type": "markdown",
   "metadata": {},
   "source": [
    "#### 7. kNN"
   ]
  },
  {
   "cell_type": "code",
   "execution_count": null,
   "metadata": {},
   "outputs": [],
   "source": [
    "# kNN\n",
    "from sklearn.neighbors import KNeighborsClassifier\n",
    "model = KNeighborsClassifier()\n",
    "kNN = baseline_model(model, tfidf_vectorizer, mrdataset, test , sub)\n",
    "\n",
    "path = 'C:/Users/nicoleshih/Downloads/tmu-ml-course-team-battle-1/submission_kNN_ans.csv'\n",
    "kNN.to_csv(path, index=0)"
   ]
  },
  {
   "cell_type": "markdown",
   "metadata": {},
   "source": [
    "#### 8. DT"
   ]
  },
  {
   "cell_type": "code",
   "execution_count": null,
   "metadata": {},
   "outputs": [],
   "source": [
    "# DT\n",
    "from sklearn.tree import DecisionTreeClassifier\n",
    "model = DecisionTreeClassifier()\n",
    "DT = baseline_model(model, tfidf_vectorizer, mrdataset, test , sub)\n",
    "\n",
    "path = 'C:/Users/nicoleshih/Downloads/tmu-ml-course-team-battle-1/submission_DT_ans.csv'\n",
    "DT.to_csv(path, index=0)"
   ]
  },
  {
   "cell_type": "markdown",
   "metadata": {},
   "source": [
    "#### 9. XGBoost"
   ]
  },
  {
   "cell_type": "code",
   "execution_count": null,
   "metadata": {},
   "outputs": [],
   "source": [
    "# XGboost\n",
    "from xgboost import XGBClassifier\n",
    "model = XGBClassifier()\n",
    "XGB = baseline_model(model, tfidf_vectorizer, mrdataset, test , sub)\n",
    "\n",
    "path = 'C:/Users/nicoleshih/Downloads/tmu-ml-course-team-battle-1/submission_XGB_ans.csv'\n",
    "XGB.to_csv(path, index=0)"
   ]
  },
  {
   "cell_type": "markdown",
   "metadata": {},
   "source": [
    "####10. RBF"
   ]
  },
  {
   "cell_type": "code",
   "execution_count": null,
   "metadata": {},
   "outputs": [],
   "source": [
    "#RBF\n",
    "from sklearn.preprocessing import StandardScaler\n",
    "from sklearn.svm import SVC\n",
    "from sklearn.pipeline import Pipeline\n",
    "svc = SVC(kernel='rbf', gamma=1.0)\n",
    "def RBFKernelSVC(gamma=1.0):\n",
    "    return Pipeline([\n",
    "        ('std_scaler', StandardScaler()),\n",
    "        ('svc', SVC(kernel='rbf', gamma=gamma))\n",
    "    ])\n",
    "#model = StandardScaler()\n",
    "#RBF = baseline_model(model, tfidf_vectorizer, mrdataset, test , sub)\n",
    "\n",
    "#path = 'C:/Users/nicoleshih/Downloads/tmu-ml-course-team-battle-1/submission_RBF_ans.csv'\n",
    "#RBF.to_csv(path, index=0)"
   ]
  },
  {
   "cell_type": "code",
   "execution_count": null,
   "metadata": {},
   "outputs": [],
   "source": [
    "###DNN\n",
    "import os\n",
    "import numpy as np\n",
    "from sklearn import preprocessing\n",
    "from keras.models import Sequential\n",
    "from keras.layers import Dense,Dropout\n",
    "from keras.layers import Activation, Dense\n",
    "from keras.layers.embeddings import Embedding\n",
    "top_words = 5000\n",
    "max_words = 500\n",
    "model = Sequential()\n",
    "model.add(Embedding(top_words, 32, input_length=max_words))\n",
    "model.add(Flatten())\n",
    "model.add(Dense(250, activation='relu'))\n",
    "model.add(Dense(1, activation='sigmoid'))\n",
    "model.compile(loss='binary_crossentropy', optimizer='adam', metrics=['accuracy'])\n",
    "print(model.summary())\n",
    "#DNN=baseline_model(model, tfidf_vectorizer, mrdataset, test , sub)\n",
    "\n",
    "#path = 'C:/Users/nicoleshih/Downloads/tmu-ml-course-team-battle-1/submission_DNN_ans.csv'\n",
    "#DNN.to_csv(path, index=0)"
   ]
  },
  {
   "cell_type": "code",
   "execution_count": null,
   "metadata": {},
   "outputs": [],
   "source": []
  }
 ],
 "metadata": {
  "kernelspec": {
   "display_name": "Python 3",
   "language": "python",
   "name": "python3"
  },
  "language_info": {
   "codemirror_mode": {
    "name": "ipython",
    "version": 3
   },
   "file_extension": ".py",
   "mimetype": "text/x-python",
   "name": "python",
   "nbconvert_exporter": "python",
   "pygments_lexer": "ipython3",
   "version": "3.7.4"
  }
 },
 "nbformat": 4,
 "nbformat_minor": 2
}
