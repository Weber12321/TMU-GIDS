{
 "cells": [
  {
   "cell_type": "markdown",
   "metadata": {},
   "source": [
    "# Chpt 11 (Two sample t test) Assignment code\n",
    "###### Created by Weber YC, Huang\n",
    "###### 2019-12-06"
   ]
  },
  {
   "cell_type": "code",
   "execution_count": null,
   "metadata": {},
   "outputs": [],
   "source": [
    "# Q7.a\n",
    "paired_t <- function(len_1,len_2){\n",
    "  l1 = c()\n",
    "  cat(' plz fill in list one ...','\\n')\n",
    "  for (i in c(1:len_1)) {\n",
    "    question1 <- as.numeric(readline(prompt=\"Enter number: \"))\n",
    "    l1 <- append(l1,question1)\n",
    "  }\n",
    "  cat('list one :', l1, '\\n')\n",
    "  \n",
    "  cat('\\n', 'plz fill in list two ...','\\n')\n",
    "  l2 = c()\n",
    "  for (j in c(1:len_2)) {\n",
    "    question2 <- as.numeric(readline(prompt=\"Enter number: \"))\n",
    "    l2 <- append(l2,question2)\n",
    "  }\n",
    "  cat('list two :', l2, '\\n')\n",
    "  \n",
    "  sided <- as.character(readline(prompt=\"Enter sided (less(left) or two.sided or greater(right)) :\"))\n",
    "  \n",
    "  t.test(l1, l2, paired=TRUE, alternative = sided)\n",
    "}\n",
    "\n",
    "\n",
    "# Q7.b\n",
    "paired_t <- function(len_1,len_2, Delta, n){\n",
    "  l1 = c()\n",
    "  cat(' plz fill in list one ...','\\n')\n",
    "  for (i in c(1:len_1)) {\n",
    "    question1 <- as.numeric(readline(prompt=\"Enter number: \"))\n",
    "    l1 <- append(l1,question1)\n",
    "  }\n",
    "  cat('list one :', l1, '\\n')\n",
    "  \n",
    "  cat('\\n', 'plz fill in list two ...','\\n')\n",
    "  l2 = c()\n",
    "  for (j in c(1:len_2)) {\n",
    "    question2 <- as.numeric(readline(prompt=\"Enter number: \"))\n",
    "    l2 <- append(l2,question2)\n",
    "  }\n",
    "  cat('list two :', l2, '\\n')\n",
    "  \n",
    "  \n",
    "  dif <- abs(l1-l2) \n",
    "  dif_bar <- mean(dif)\n",
    "  dif_sd <- sd(dif)\n",
    "  cat('\\n','Difference :', dif, '\\n')\n",
    "  cat('Difference mean :', dif_bar, '\\n')\n",
    "  cat('Difference sd :', dif_sd, '\\n')\n",
    "  \n",
    "  t = (dif_bar-Delta)/(dif_sd/sqrt(n))\n",
    "  \n",
    "  cat('\\n', '==== Answer ====', '\\n', 'T :', t, '\\n')\n",
    "  \n",
    "  pval = pt(t, df=n-1, lower.tail=FALSE) \n",
    "  cat('\\n', '==== Answer ====', '\\n')\n",
    "  cat('P-value :', pval)\n",
    "}"
   ]
  },
  {
   "cell_type": "code",
   "execution_count": 20,
   "metadata": {},
   "outputs": [],
   "source": [
    "# Q8.c Q11.b\n",
    "ind_t <- function(){\n",
    "  x1 <- as.numeric(readline(prompt=\"x1 ? :\"))\n",
    "  x2 <- as.numeric(readline(prompt=\"x2 ? :\"))\n",
    "  s1 <- as.numeric(readline(prompt=\"s1 ? :\"))\n",
    "  s2 <- as.numeric(readline(prompt=\"s2 ? :\"))\n",
    "  n1 <- as.numeric(readline(prompt=\"n1 ? :\"))\n",
    "  n2 <- as.numeric(readline(prompt=\"n2 ? :\"))\n",
    "  var_equal <- as.character(readline(prompt=\"Are population variances assume to be equal (y/n) ? : \"))\n",
    "  tails <- as.character(readline(prompt=\"What tails of test would you like to perform (l/r/2) ? : \"))\n",
    "  \n",
    "  if (var_equal == 'y') {\n",
    "    sp_square <- (((n1-1)*s1*s1)+((n2-1)*s2*s2))/(n1+n2-2)\n",
    "    t0 <- (x1-x2)/(sqrt(sp_square)*sqrt((1/n1)+(1/n2)))\n",
    "    df=(n1+n2-2)\n",
    "    cat('sp square :', sp_square, '\\n')\n",
    "    cat('T :', t0, '\\n')\n",
    "    cat('df :', df, '\\n')\n",
    "    \n",
    "    if (tails == '2'){\n",
    "        p = 2 * pt(-abs(t0), df=df)\n",
    "        cat(' ==== Answer ====','\\n')\n",
    "        cat('P-value :', p)  \n",
    "    }else{\n",
    "        p = pt(-abs(t0), df=df)\n",
    "        cat(' ==== Answer ====','\\n')\n",
    "        cat('P-value :', p)\n",
    "    } \n",
    "  }\n",
    "  else{\n",
    "    t0 <- ((x1-x2)-0)/sqrt((s1*s1/n1)+(s2*s2/n2))\n",
    "    df <- ((s1*s1/n1)+(s2*s2/n2))^2/(((s1*s1/n1)^2/(n1-1))+((s2*s2/n2)^2/(n2-1)))\n",
    "    cat('T :', t0, '\\n')\n",
    "    cat('df :', df, '\\n')\n",
    "    \n",
    "    if (tails == '2'){\n",
    "        p = 2 * pt(-abs(t0), df=df)\n",
    "        cat(' ==== Answer ====','\\n')\n",
    "        cat('P-value :', p)  \n",
    "    }else{\n",
    "        p = pt(-abs(t0), df=df)\n",
    "        cat(' ==== Answer ====','\\n')\n",
    "        cat('P-value :', p)\n",
    "    } \n",
    "  }\n",
    "} \n"
   ]
  },
  {
   "cell_type": "code",
   "execution_count": 26,
   "metadata": {},
   "outputs": [],
   "source": [
    "# Q8.c Q11.b Q12\n",
    "library(BSDA)\n",
    "summary_ttest <- function(){\n",
    "    x1 <- as.numeric(readline(prompt=\"x1 ? :\"))\n",
    "    x2 <- as.numeric(readline(prompt=\"x2 ? :\"))\n",
    "    s1 <- as.numeric(readline(prompt=\"s1 ? :\"))\n",
    "    s2 <- as.numeric(readline(prompt=\"s2 ? :\"))\n",
    "    n1 <- as.numeric(readline(prompt=\"n1 ? :\"))\n",
    "    n2 <- as.numeric(readline(prompt=\"n2 ? :\"))\n",
    "    alter <- as.character(readline(prompt=\"alternative (greater/less/two.sided)? :\"))\n",
    "    mu <- as.numeric(readline(prompt=\"H0 ? :\"))\n",
    "    vare <- as.character(readline(prompt=\"Are population variances assume to be equal (y/n) ? : \"))\n",
    "    alpha <- as.numeric(readline(prompt=\"Alpha ? :\"))\n",
    "    if(vare == \"y\"){\n",
    "        tsum.test(x1, s1, n1, x2, s2, n2, alternative = alter, mu = mu, \n",
    "                  var.equal = TRUE, conf.level = 1-alpha)\n",
    "    }else{\n",
    "        tsum.test(x1, s1, n1, x2, s2, n2, alternative = alter, mu = mu, \n",
    "                  var.equal = FALSE, conf.level = 1-alpha)\n",
    "    }                   \n",
    "}\n"
   ]
  },
  {
   "cell_type": "code",
   "execution_count": 64,
   "metadata": {},
   "outputs": [
    {
     "data": {
      "text/html": [
       "<dl class=dl-horizontal>\n",
       "\t<dt>CVD</dt>\n",
       "\t\t<dd>0</dd>\n",
       "\t<dt>waist</dt>\n",
       "\t\t<dd>1637</dd>\n",
       "\t<dt>SBP</dt>\n",
       "\t\t<dd>1233</dd>\n",
       "\t<dt>DBP</dt>\n",
       "\t\t<dd>1244</dd>\n",
       "</dl>\n"
      ],
      "text/latex": [
       "\\begin{description*}\n",
       "\\item[CVD] 0\n",
       "\\item[waist] 1637\n",
       "\\item[SBP] 1233\n",
       "\\item[DBP] 1244\n",
       "\\end{description*}\n"
      ],
      "text/markdown": [
       "CVD\n",
       ":   0waist\n",
       ":   1637SBP\n",
       ":   1233DBP\n",
       ":   1244\n",
       "\n"
      ],
      "text/plain": [
       "  CVD waist   SBP   DBP \n",
       "    0  1637  1233  1244 "
      ]
     },
     "metadata": {},
     "output_type": "display_data"
    }
   ],
   "source": [
    "# set working dir \n",
    "setwd('C:/Users/doudi/Downloads')\n",
    "\n",
    "# load packages\n",
    "library(dplyr)\n",
    "library(magrittr)\n",
    "\n",
    "# load file\n",
    "data <- read.csv('CVD_ALL.csv', encoding = 'utf-8')\n",
    "df <- data[,c(2,6,7,8)]\n",
    "colnames(df) <- c('CVD', 'waist', 'SBP', 'DBP')\n",
    "\n",
    "# drop NA\n",
    "sapply(df, function(x) {sum(is.na(x))})\n",
    "df = df %>% na.omit()\n"
   ]
  },
  {
   "cell_type": "code",
   "execution_count": 70,
   "metadata": {},
   "outputs": [],
   "source": [
    "df$Diff <- df$SBP - df$DBP"
   ]
  },
  {
   "cell_type": "code",
   "execution_count": 72,
   "metadata": {},
   "outputs": [
    {
     "data": {
      "text/plain": [
       "\n",
       "\tPaired t-test\n",
       "\n",
       "data:  df$SBP and df$DBP\n",
       "t = -84.39, df = 62336, p-value = 1\n",
       "alternative hypothesis: true difference in means is greater than 50\n",
       "95 percent confidence interval:\n",
       " 45.06764      Inf\n",
       "sample estimates:\n",
       "mean of the differences \n",
       "               45.16194 \n"
      ]
     },
     "metadata": {},
     "output_type": "display_data"
    }
   ],
   "source": [
    "# Extra Q1. \n",
    "t.test(df$SBP, df$DBP, mu = 50, paired = TRUE, alternative = \"greater\")"
   ]
  },
  {
   "cell_type": "code",
   "execution_count": 73,
   "metadata": {},
   "outputs": [
    {
     "data": {
      "text/plain": [
       "\n",
       "\tOne Sample t-test\n",
       "\n",
       "data:  df$Diff\n",
       "t = -84.39, df = 62336, p-value = 1\n",
       "alternative hypothesis: true mean is greater than 50\n",
       "95 percent confidence interval:\n",
       " 45.06764      Inf\n",
       "sample estimates:\n",
       "mean of x \n",
       " 45.16194 \n"
      ]
     },
     "metadata": {},
     "output_type": "display_data"
    }
   ],
   "source": [
    "t.test(df$Diff, mu = 50, alternative = \"greater\")"
   ]
  },
  {
   "cell_type": "code",
   "execution_count": 68,
   "metadata": {},
   "outputs": [
    {
     "data": {
      "text/plain": [
       "\n",
       "\tWelch Two Sample t-test\n",
       "\n",
       "data:  cvd0 and cvd1\n",
       "t = -33.457, df = 7051.3, p-value < 2.2e-16\n",
       "alternative hypothesis: true difference in means is not equal to 0\n",
       "95 percent confidence interval:\n",
       " -5.084332 -4.521517\n",
       "sample estimates:\n",
       "mean of x mean of y \n",
       " 77.89709  82.70002 \n"
      ]
     },
     "metadata": {},
     "output_type": "display_data"
    }
   ],
   "source": [
    "# Extra Q2. \n",
    "# Ho : mu_cvd0 - mu_cvd1 = 0\n",
    "cvd0 = df %>% filter(CVD==0) %>% select(waist)\n",
    "cvd1 = df %>% filter(CVD==1) %>% select(waist)\n"
   ]
  },
  {
   "cell_type": "code",
   "execution_count": 77,
   "metadata": {},
   "outputs": [
    {
     "data": {
      "text/plain": [
       "\n",
       "\tWelch Two Sample t-test\n",
       "\n",
       "data:  cvd0 and cvd1\n",
       "t = -33.457, df = 7051.3, p-value < 2.2e-16\n",
       "alternative hypothesis: true difference in means is not equal to 0\n",
       "95 percent confidence interval:\n",
       " -5.084332 -4.521517\n",
       "sample estimates:\n",
       "mean of x mean of y \n",
       " 77.89709  82.70002 \n"
      ]
     },
     "metadata": {},
     "output_type": "display_data"
    }
   ],
   "source": [
    "t.test(cvd0, cvd1, mu = 0 ,alternatice = 'two.sided')"
   ]
  }
 ],
 "metadata": {
  "kernelspec": {
   "display_name": "R",
   "language": "R",
   "name": "ir"
  },
  "language_info": {
   "codemirror_mode": "r",
   "file_extension": ".r",
   "mimetype": "text/x-r-source",
   "name": "R",
   "pygments_lexer": "r",
   "version": "3.6.1"
  }
 },
 "nbformat": 4,
 "nbformat_minor": 2
}
