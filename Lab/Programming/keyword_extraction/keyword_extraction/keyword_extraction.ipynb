{
 "cells": [
  {
   "cell_type": "code",
   "execution_count": 3,
   "metadata": {},
   "outputs": [
    {
     "name": "stderr",
     "output_type": "stream",
     "text": [
      "Building prefix dict from /Users/temping/pywork/keyword_extraction/dict.txt.big ...\n",
      "Dumping model to file cache /var/folders/m8/jd1yj18n541_w6czdfyfbvt00000gn/T/jieba.u104df30ca06765ade812ade02bc345ff.cache\n",
      "Loading model cost 1.317 seconds.\n",
      "Prefix dict has been built succesfully.\n"
     ]
    },
    {
     "name": "stdout",
     "output_type": "stream",
     "text": [
      "比賽 2301.9484209495963\n",
      "球員 1707.6109246493882\n",
      "林書豪 1681.9488246186354\n",
      "隊 1483.4802597813384\n",
      "NBA 1451.8624990094017\n"
     ]
    }
   ],
   "source": [
    "import tmunlp as nlp\n",
    "label_list=[\"sports\", \"politics\", \"health\"]\n",
    "data_filepath = \"NLP_news_files.txt\"\n",
    "\n",
    "label_term_weighting = nlp.get_label_term_weighting(data_filepath, label_list)\n",
    "for key, value in nlp.get_keyword(\"sports\", label_term_weighting, 5).items():\n",
    "    print(key, value)"
   ]
  },
  {
   "cell_type": "code",
   "execution_count": 4,
   "metadata": {},
   "outputs": [
    {
     "name": "stderr",
     "output_type": "stream",
     "text": [
      "Building prefix dict from /Users/temping/pywork/keyword_extraction/dict.txt.big ...\n",
      "Loading model from cache /var/folders/m8/jd1yj18n541_w6czdfyfbvt00000gn/T/jieba.u104df30ca06765ade812ade02bc345ff.cache\n",
      "Loading model cost 1.015 seconds.\n",
      "Prefix dict has been built succesfully.\n"
     ]
    }
   ],
   "source": [
    "import tmunlp as nlp\n",
    "import jieba\n",
    "jieba.set_dictionary('./dict.txt.big')\n",
    "data_filepath = \"NLP_news_files.txt\"\n",
    "\n",
    "\n",
    "labels = {} # label : freq\n",
    "label_wordlist = {}\n",
    "dataset = [] # label : text\n",
    "label_list=[\"sports\", \"politics\", \"health\"]    \n",
    "\n",
    "for l in label_list:\n",
    "    labels[l] = 0\n",
    "    label_wordlist[l] = dict()\n",
    "\n",
    "\n",
    "for data in open(data_filepath).readlines():\n",
    "    items = data.strip('\\n').split(\"\\t\")\n",
    "\n",
    "    if len(items) == 2:\n",
    "        label = items[0]\n",
    "        text = items[1]\n",
    "        seg_content = list(jieba.cut(text, cut_all = False))\n",
    "\n",
    "        distinct_text = list(set(seg_content)) #distinct the list, but revert the order\n",
    "        dataset.append([label, distinct_text]) \n",
    "\n",
    "        labels[label] += 1\n",
    "\n",
    "        for word in distinct_text:\n",
    "            for l in label_list:\n",
    "                if word in label_wordlist[l]:\n",
    "                    label_wordlist[l][word].count_freq()\n",
    "                else:\n",
    "                    label_wordlist[l][word] = nlp.Feature(word)"
   ]
  },
  {
   "cell_type": "code",
   "execution_count": 5,
   "metadata": {},
   "outputs": [],
   "source": [
    "label_term_weighting = {}\n",
    "for label, num_data_label in labels.items():\n",
    "    for word in label_wordlist[label]:\n",
    "        label_wordlist[label][word].reset_info()\n",
    "    \n",
    "    label_term_weighting[label] = nlp.get_term_weighting(label, num_data_label, label_wordlist[label], dataset)  "
   ]
  },
  {
   "cell_type": "code",
   "execution_count": 6,
   "metadata": {},
   "outputs": [],
   "source": [
    "def get_keyword(label, label_term_weighting, topN=10):\n",
    "    keyword_list = {}\n",
    "    for i in range(len(label_term_weighting[label])):\n",
    "        if label_term_weighting[label][i][1]._present_on_topic > label_term_weighting[label][i][1]._present_off_topic:\n",
    "            keyword_list[label_term_weighting[label][i][0]] = label_term_weighting[label][i][1]._llr\n",
    "        if len(keyword_list) >= topN:\n",
    "            return keyword_list\n",
    "        "
   ]
  },
  {
   "cell_type": "code",
   "execution_count": 7,
   "metadata": {},
   "outputs": [
    {
     "name": "stdout",
     "output_type": "stream",
     "text": [
      "比賽 2301.9484209495963\n",
      "球員 1707.6109246493882\n",
      "林書豪 1681.9488246186354\n",
      "隊 1483.4802597813384\n",
      "NBA 1451.8624990094017\n"
     ]
    }
   ],
   "source": [
    "for key, value in get_keyword(\"sports\", label_term_weighting, 5).items():\n",
    "    print(key, value)"
   ]
  },
  {
   "cell_type": "code",
   "execution_count": null,
   "metadata": {},
   "outputs": [],
   "source": []
  }
 ],
 "metadata": {
  "kernelspec": {
   "display_name": "Python 3",
   "language": "python",
   "name": "python3"
  },
  "language_info": {
   "codemirror_mode": {
    "name": "ipython",
    "version": 3
   },
   "file_extension": ".py",
   "mimetype": "text/x-python",
   "name": "python",
   "nbconvert_exporter": "python",
   "pygments_lexer": "ipython3",
   "version": "3.7.4"
  }
 },
 "nbformat": 4,
 "nbformat_minor": 2
}
