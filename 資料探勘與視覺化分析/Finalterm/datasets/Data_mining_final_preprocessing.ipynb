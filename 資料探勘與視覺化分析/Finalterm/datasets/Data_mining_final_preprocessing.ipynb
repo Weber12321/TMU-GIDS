{
 "cells": [
  {
   "cell_type": "code",
   "execution_count": 21,
   "metadata": {},
   "outputs": [
    {
     "name": "stderr",
     "output_type": "stream",
     "text": [
      "C:\\Users\\doudi\\Anaconda3\\lib\\site-packages\\ipykernel_launcher.py:18: TqdmDeprecationWarning: This function will be removed in tqdm==5.0.0\n",
      "Please use `tqdm.notebook.tqdm` instead of `tqdm.tqdm_notebook`\n"
     ]
    },
    {
     "data": {
      "application/vnd.jupyter.widget-view+json": {
       "model_id": "1bf4cd7e89e340d8bbc5d8cf706acf07",
       "version_major": 2,
       "version_minor": 0
      },
      "text/plain": [
       "HBox(children=(FloatProgress(value=0.0, max=25.0), HTML(value='')))"
      ]
     },
     "metadata": {},
     "output_type": "display_data"
    },
    {
     "name": "stderr",
     "output_type": "stream",
     "text": [
      "C:\\Users\\doudi\\Anaconda3\\lib\\site-packages\\ipykernel_launcher.py:15: FutureWarning: The signature of `Series.to_csv` was aligned to that of `DataFrame.to_csv`, and argument 'header' will change its default value from False to True: please pass an explicit value to suppress this warning.\n",
      "  from ipykernel import kernelapp as app\n"
     ]
    },
    {
     "name": "stdout",
     "output_type": "stream",
     "text": [
      "CO2_Emission.csv\n",
      "education_duration.csv\n",
      "fertility_rate(per_women).csv\n",
      "GDP(per_capita).csv\n",
      "homicide(per_100000).csv\n",
      "Life_expectancy_female.csv\n",
      "Life_expectancy_male.csv\n",
      "PM25.csv\n",
      "sex_ratio(birth).csv\n",
      "suicide_rate.csv\n",
      "unemployment_female.csv\n",
      "unemployment_male.csv\n",
      "\n"
     ]
    }
   ],
   "source": [
    "import os\n",
    "import pandas as pd\n",
    "from tqdm import tqdm_notebook as tqdm\n",
    "\n",
    "directory = 'C:/Users/doudi/OneDrive/Documents/TMU-GIDS/資料探勘與視覺化分析/Finalterm/datasets'\n",
    "os.chdir(directory)\n",
    "\n",
    "def process(path):\n",
    "    df = pd.read_csv(path)\n",
    "    df = df.drop('Country Code', 1)\n",
    "    df.set_index('Country Name', inplace=True)\n",
    "    df = df.stack(dropna=False)\n",
    "    df.head()\n",
    "    new_path = 'C:/Users/doudi/OneDrive/Documents/TMU-GIDS/資料探勘與視覺化分析/Finalterm/datasets/preprocess/' + path\n",
    "    df.to_csv(new_path, index=True)\n",
    "\n",
    "\n",
    "for filename in tqdm(os.listdir(directory)):\n",
    "    if filename.endswith(\".csv\"): \n",
    "        print(filename)\n",
    "        process(filename)\n",
    "        continue\n",
    "    else:\n",
    "        continue"
   ]
  },
  {
   "cell_type": "code",
   "execution_count": 32,
   "metadata": {},
   "outputs": [
    {
     "name": "stderr",
     "output_type": "stream",
     "text": [
      "C:\\Users\\doudi\\Anaconda3\\lib\\site-packages\\ipykernel_launcher.py:5: TqdmDeprecationWarning: This function will be removed in tqdm==5.0.0\n",
      "Please use `tqdm.notebook.tqdm` instead of `tqdm.tqdm_notebook`\n",
      "  \"\"\"\n"
     ]
    },
    {
     "data": {
      "application/vnd.jupyter.widget-view+json": {
       "model_id": "81405523ae2949a584302f25d1a6db3a",
       "version_major": 2,
       "version_minor": 0
      },
      "text/plain": [
       "HBox(children=(FloatProgress(value=0.0, max=12.0), HTML(value='')))"
      ]
     },
     "metadata": {},
     "output_type": "display_data"
    },
    {
     "name": "stdout",
     "output_type": "stream",
     "text": [
      "CO2_Emission.csv\n",
      "education_duration.csv\n",
      "fertility_rate(per_women).csv\n",
      "GDP(per_capita).csv\n",
      "homicide(per_100000).csv\n",
      "Life_expectancy_female.csv\n",
      "Life_expectancy_male.csv\n",
      "PM25.csv\n",
      "sex_ratio(birth).csv\n",
      "suicide_rate.csv\n",
      "unemployment_female.csv\n",
      "unemployment_male.csv\n",
      "\n"
     ]
    }
   ],
   "source": [
    "directory = 'C:/Users/doudi/OneDrive/Documents/TMU-GIDS/資料探勘與視覺化分析/Finalterm/datasets/preprocess'\n",
    "os.chdir(directory)\n",
    "dfs = []\n",
    "for filename in tqdm(os.listdir(directory)):\n",
    "    if filename.endswith(\".csv\"): \n",
    "        print(filename)\n",
    "        dfs.append(pd.read_csv(filename))\n",
    "        continue\n",
    "    else:\n",
    "        continue"
   ]
  },
  {
   "cell_type": "code",
   "execution_count": 44,
   "metadata": {},
   "outputs": [],
   "source": [
    "final = [df.set_index(['Country','Year']) for df in dfs]\n",
    "\n",
    "new = pd.concat(final, axis=1).reset_index()"
   ]
  },
  {
   "cell_type": "code",
   "execution_count": 47,
   "metadata": {},
   "outputs": [
    {
     "data": {
      "text/html": [
       "<div>\n",
       "<style scoped>\n",
       "    .dataframe tbody tr th:only-of-type {\n",
       "        vertical-align: middle;\n",
       "    }\n",
       "\n",
       "    .dataframe tbody tr th {\n",
       "        vertical-align: top;\n",
       "    }\n",
       "\n",
       "    .dataframe thead th {\n",
       "        text-align: right;\n",
       "    }\n",
       "</style>\n",
       "<table border=\"1\" class=\"dataframe\">\n",
       "  <thead>\n",
       "    <tr style=\"text-align: right;\">\n",
       "      <th></th>\n",
       "      <th>Country</th>\n",
       "      <th>Year</th>\n",
       "      <th>CO2</th>\n",
       "      <th>Education_duration</th>\n",
       "      <th>Fertility_rate</th>\n",
       "      <th>GDP</th>\n",
       "      <th>Homicide(per_1000000)</th>\n",
       "      <th>Life_exp_f</th>\n",
       "      <th>Life_exp_m</th>\n",
       "      <th>PM25</th>\n",
       "      <th>Sex_ratio(birth)</th>\n",
       "      <th>Suicide_rate</th>\n",
       "      <th>Unemployment_f</th>\n",
       "      <th>Unemployment_m</th>\n",
       "    </tr>\n",
       "  </thead>\n",
       "  <tbody>\n",
       "    <tr>\n",
       "      <th>0</th>\n",
       "      <td>Aruba</td>\n",
       "      <td>1960</td>\n",
       "      <td>NaN</td>\n",
       "      <td>NaN</td>\n",
       "      <td>4.820</td>\n",
       "      <td>NaN</td>\n",
       "      <td>NaN</td>\n",
       "      <td>67.129</td>\n",
       "      <td>64.084</td>\n",
       "      <td>NaN</td>\n",
       "      <td>NaN</td>\n",
       "      <td>NaN</td>\n",
       "      <td>NaN</td>\n",
       "      <td>NaN</td>\n",
       "    </tr>\n",
       "    <tr>\n",
       "      <th>1</th>\n",
       "      <td>Aruba</td>\n",
       "      <td>1961</td>\n",
       "      <td>NaN</td>\n",
       "      <td>NaN</td>\n",
       "      <td>4.655</td>\n",
       "      <td>NaN</td>\n",
       "      <td>NaN</td>\n",
       "      <td>67.625</td>\n",
       "      <td>64.429</td>\n",
       "      <td>NaN</td>\n",
       "      <td>NaN</td>\n",
       "      <td>NaN</td>\n",
       "      <td>NaN</td>\n",
       "      <td>NaN</td>\n",
       "    </tr>\n",
       "    <tr>\n",
       "      <th>2</th>\n",
       "      <td>Aruba</td>\n",
       "      <td>1962</td>\n",
       "      <td>NaN</td>\n",
       "      <td>NaN</td>\n",
       "      <td>4.471</td>\n",
       "      <td>NaN</td>\n",
       "      <td>NaN</td>\n",
       "      <td>68.065</td>\n",
       "      <td>64.747</td>\n",
       "      <td>NaN</td>\n",
       "      <td>1.05</td>\n",
       "      <td>NaN</td>\n",
       "      <td>NaN</td>\n",
       "      <td>NaN</td>\n",
       "    </tr>\n",
       "    <tr>\n",
       "      <th>3</th>\n",
       "      <td>Aruba</td>\n",
       "      <td>1963</td>\n",
       "      <td>NaN</td>\n",
       "      <td>NaN</td>\n",
       "      <td>4.271</td>\n",
       "      <td>NaN</td>\n",
       "      <td>NaN</td>\n",
       "      <td>68.458</td>\n",
       "      <td>65.053</td>\n",
       "      <td>NaN</td>\n",
       "      <td>NaN</td>\n",
       "      <td>NaN</td>\n",
       "      <td>NaN</td>\n",
       "      <td>NaN</td>\n",
       "    </tr>\n",
       "    <tr>\n",
       "      <th>4</th>\n",
       "      <td>Aruba</td>\n",
       "      <td>1964</td>\n",
       "      <td>NaN</td>\n",
       "      <td>NaN</td>\n",
       "      <td>4.059</td>\n",
       "      <td>NaN</td>\n",
       "      <td>NaN</td>\n",
       "      <td>68.817</td>\n",
       "      <td>65.356</td>\n",
       "      <td>NaN</td>\n",
       "      <td>NaN</td>\n",
       "      <td>NaN</td>\n",
       "      <td>NaN</td>\n",
       "      <td>NaN</td>\n",
       "    </tr>\n",
       "  </tbody>\n",
       "</table>\n",
       "</div>"
      ],
      "text/plain": [
       "  Country  Year  CO2  Education_duration  Fertility_rate  GDP  \\\n",
       "0   Aruba  1960  NaN                 NaN           4.820  NaN   \n",
       "1   Aruba  1961  NaN                 NaN           4.655  NaN   \n",
       "2   Aruba  1962  NaN                 NaN           4.471  NaN   \n",
       "3   Aruba  1963  NaN                 NaN           4.271  NaN   \n",
       "4   Aruba  1964  NaN                 NaN           4.059  NaN   \n",
       "\n",
       "   Homicide(per_1000000)  Life_exp_f  Life_exp_m  PM25  Sex_ratio(birth)  \\\n",
       "0                    NaN      67.129      64.084   NaN               NaN   \n",
       "1                    NaN      67.625      64.429   NaN               NaN   \n",
       "2                    NaN      68.065      64.747   NaN              1.05   \n",
       "3                    NaN      68.458      65.053   NaN               NaN   \n",
       "4                    NaN      68.817      65.356   NaN               NaN   \n",
       "\n",
       "   Suicide_rate  Unemployment_f  Unemployment_m  \n",
       "0           NaN             NaN             NaN  \n",
       "1           NaN             NaN             NaN  \n",
       "2           NaN             NaN             NaN  \n",
       "3           NaN             NaN             NaN  \n",
       "4           NaN             NaN             NaN  "
      ]
     },
     "execution_count": 47,
     "metadata": {},
     "output_type": "execute_result"
    }
   ],
   "source": [
    "new.head()"
   ]
  },
  {
   "cell_type": "code",
   "execution_count": 48,
   "metadata": {},
   "outputs": [],
   "source": [
    "new.to_csv('final.csv', index=True)"
   ]
  }
 ],
 "metadata": {
  "kernelspec": {
   "display_name": "Python 3",
   "language": "python",
   "name": "python3"
  },
  "language_info": {
   "codemirror_mode": {
    "name": "ipython",
    "version": 3
   },
   "file_extension": ".py",
   "mimetype": "text/x-python",
   "name": "python",
   "nbconvert_exporter": "python",
   "pygments_lexer": "ipython3",
   "version": "3.7.3"
  }
 },
 "nbformat": 4,
 "nbformat_minor": 2
}
